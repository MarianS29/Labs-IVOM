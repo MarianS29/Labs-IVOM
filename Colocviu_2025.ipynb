{
 "cells": [
  {
   "cell_type": "code",
   "execution_count": 140,
   "id": "f6aa11bd",
   "metadata": {},
   "outputs": [],
   "source": [
    "import numpy as np\n",
    "from skimage import io, color\n",
    "import matplotlib.pyplot as plt\n",
    "import matplotlib.pyplot as plt\n",
    "import os \n",
    "from skimage.transform.integral import integral_image"
   ]
  },
  {
   "cell_type": "code",
   "execution_count": 141,
   "id": "47178b3d",
   "metadata": {},
   "outputs": [],
   "source": [
    "# functia care calculeaza imaginea integrala\n",
    "def img_integrala(img, variant):\n",
    "    L,C = np.shape(img)\n",
    "    img_out = np.zeros((L,C))\n",
    "    if variant == 1:\n",
    "        img_out = np.cumsum(np.cumsum(img,axis=1), axis=0)\n",
    "        return img_out\n",
    "    elif variant == 2:\n",
    "        for i in range(0,L):\n",
    "            for j in range(0,C):\n",
    "                if i==0 and j==0:\n",
    "                    img_out[i,j] = img[i,j]\n",
    "                elif i==0 and j!=0:\n",
    "                    img_out[i,j] = img[i,j] + img_out[i,j-1]\n",
    "                elif i!=0 and j==0:\n",
    "                    img_out[i,j] = img[i,j] + img_out[i-1,j]\n",
    "                elif i!=0 and j!=0:\n",
    "                    img_out[i,j] = img[i,j] + img_out[i,j-1] + img_out[i-1,j] - img_out[i-1,j-1]\n",
    "        return img_out"
   ]
  },
  {
   "cell_type": "code",
   "execution_count": 142,
   "id": "14142f75",
   "metadata": {},
   "outputs": [],
   "source": [
    "#calcul dreptunghi din img_integ (suma de pixeli din orice dreptunghi din img initiala)\n",
    "def suma_dreptunghi(poz_i, poz_j, h_fer, w_fer, img_integrala):\n",
    "    A=0\n",
    "    B=0\n",
    "    C=0\n",
    "    D=0\n",
    "    if poz_i==0 and poz_j==0:\n",
    "        D = img_integrala[poz_i+h_fer-1, poz_j+w_fer-1]\n",
    "    elif poz_i==0 and poz_j!=0:\n",
    "        C = img_integrala[poz_i+h_fer-1, poz_j-1]\n",
    "        D = img_integrala[poz_i+h_fer-1, poz_j+w_fer-1]\n",
    "    elif poz_i!=0 and poz_j==0:\n",
    "        B = img_integrala[poz_i-1,poz_j+w_fer-1]\n",
    "        D = img_integrala[poz_i+h_fer-1, poz_j+w_fer-1]\n",
    "    elif poz_i!=0 and poz_j!=0:\n",
    "        A = img_integrala[poz_i-1,poz_j-1]\n",
    "        B = img_integrala[poz_i-1,poz_j+w_fer-1]\n",
    "        C = img_integrala[poz_i+h_fer-1, poz_j-1]\n",
    "        D = img_integrala[poz_i+h_fer-1, poz_j+w_fer-1]\n",
    "    \n",
    "    sum = A+D-B-C\n",
    "    return sum"
   ]
  },
  {
   "cell_type": "code",
   "execution_count": 143,
   "id": "a457ed7b",
   "metadata": {},
   "outputs": [],
   "source": [
    "# Ex 1"
   ]
  },
  {
   "cell_type": "code",
   "execution_count": 144,
   "id": "ac8af2b9",
   "metadata": {},
   "outputs": [],
   "source": [
    "def haar_3V(l,c,h,w,ii):\n",
    "\n",
    "    # [za1] \n",
    "    # [zn1] \n",
    "    # [za2]\n",
    "    \n",
    "    #PARAMETERS: pozitia pixelului din coltul st-sus (l,c), dim dreptunghiului(h,w), img_integ\n",
    "    # RETURN (zonele negre,zonele albe, catacteristica propriu-zisa)\n",
    "    zona_alba_1= suma_dreptunghi(l, c, h//3, w, ii)\n",
    "    zona_neagra_1= suma_dreptunghi(l+h//3, c, h//3, w, ii)\n",
    "    zona_alba_2= suma_dreptunghi(l+2*h//3, c, h//3, w, ii)\n",
    "    H_3V= zona_alba_1 + zona_alba_2 - zona_neagra_1\n",
    "    \n",
    "    return(zona_neagra_1,zona_alba_1,zona_alba_2,H_3V)"
   ]
  },
  {
   "cell_type": "code",
   "execution_count": 145,
   "id": "ada96ab4",
   "metadata": {},
   "outputs": [],
   "source": [
    "def haar_T_intors(l,c,h,w,ii):\n",
    "\n",
    "    #       [zn2]\n",
    "    # [za1] [zn1] [za2]\n",
    "\n",
    "    zona_neagra_1= suma_dreptunghi(l, c, h, w//3, ii)\n",
    "    zona_neagra_2= suma_dreptunghi(l-h, c, h, w//3, ii)\n",
    "    zona_alba_1= suma_dreptunghi(l, c-w//3, h, w//3, ii)\n",
    "    zona_alba_2= suma_dreptunghi(l, c+w//3, h, w//3, ii)\n",
    "    H_T_intors= zona_alba_1 + zona_alba_2 - zona_neagra_1 - zona_neagra_2\n",
    "\n",
    "    return(zona_neagra_1,zona_neagra_2,zona_alba_1,zona_alba_2,H_T_intors) "
   ]
  },
  {
   "cell_type": "code",
   "execution_count": 146,
   "id": "962663b8",
   "metadata": {},
   "outputs": [],
   "source": [
    "# Ex 2"
   ]
  },
  {
   "cell_type": "code",
   "execution_count": null,
   "id": "eeec3487",
   "metadata": {},
   "outputs": [],
   "source": [
    "def calc_lista_haar_poze(path_poze):\n",
    "\n",
    "    poze = os.listdir(path_poze)\n",
    "\n",
    "    lista_haar_3v = []\n",
    "    lista_haar_T_intors = []\n",
    "\n",
    "    for poza in poze:\n",
    "\n",
    "        #citeste imagine si transforma in gray\n",
    "        im=io.imread(path_poze+ \"/\" +poza)\n",
    "        im = color.rgb2gray(im)\n",
    "        \n",
    "        #calculeaza imaginea integrala pt fiecare poza\n",
    "        ii=integral_image(im)\n",
    "        h,w = np.shape(im)\n",
    "\n",
    "        #calculeaza 2 variuante de trasaturi haar \n",
    "        # zn1,za1,za2,H_3V=haar_3V(0,w//2,6,24,ii)\n",
    "        # zn1,zn2,za1,za2,H_T_intors=haar_T_intors(0,6,12,12,ii)\n",
    "        \n",
    "        zn1,za1,za2,H_3V=haar_3V(0,w//3,h,w//3,ii) \n",
    "        zn1,zn2,za1,za2,H_T_intors=haar_T_intors(2*h//3,w//3,h//3,w,ii)\n",
    "        \n",
    "        #adauga in lista valoarea trasaturii pt fiec poza\n",
    "        lista_haar_3v.append(H_3V)\n",
    "        lista_haar_T_intors.append(H_T_intors)\n",
    "\n",
    "    lista_haar_3v_array=np.asarray(lista_haar_3v)\n",
    "    lista_haar_T_intors_array=np.asarray(lista_haar_T_intors)\n",
    "\n",
    "    return lista_haar_3v_array, lista_haar_T_intors_array"
   ]
  },
  {
   "cell_type": "code",
   "execution_count": 148,
   "id": "40a45d3a",
   "metadata": {},
   "outputs": [
    {
     "name": "stdout",
     "output_type": "stream",
     "text": [
      "['face0.jpg', 'face2.JPG', 'face3.JPG', 'face4.JPG', 'face5.jpg', 'face6.jpg', 'face7.jpg', 'false0.jpg', 'false1.jpg', 'false2.jpg', 'false3.jpg', 'false4.jpg', 'false5.jpg', 'false6.jpg', 'false7.jpg', 'false8.jpg']\n",
      "[43.54901961 23.30572    20.65387804 22.1158898  14.20468392 15.77355098\n",
      " 13.88988118 18.34363608 19.96057255 40.64415922 35.79832549 49.25984078\n",
      " 26.04342118 30.95232039 27.36230824 58.03961098]\n",
      "[-14.49411765  12.61180157   6.62110941  13.21290706   6.15429686\n",
      "  10.13839843  -4.15039765  10.54303137   2.48454275   0.89014196\n",
      "  -7.86657059  -2.7892902    1.20310824  -7.29254196  -3.81636157\n",
      "   0.20784314]\n",
      "(16,)\n",
      "(16,)\n"
     ]
    },
    {
     "data": {
      "text/plain": [
       "<matplotlib.collections.PathCollection at 0x19070387290>"
      ]
     },
     "execution_count": 148,
     "metadata": {},
     "output_type": "execute_result"
    },
    {
     "data": {
      "image/png": "[encoded data removed]",
      "text/plain": [
       "<Figure size 640x480 with 1 Axes>"
      ]
     },
     "metadata": {},
     "output_type": "display_data"
    },
    {
     "data": {
      "image/png": "[encoded data removed]",
      "text/plain": [
       "<Figure size 640x480 with 1 Axes>"
      ]
     },
     "metadata": {},
     "output_type": "display_data"
    }
   ],
   "source": [
    "path_poze = r\"C:\\Users\\maria\\Documents\\GitHub\\Labs-IVOM\\haar_1\\haar_1\\Mici_1\"\n",
    "poze = os.listdir(path_poze)\n",
    "print(poze)\n",
    "\n",
    "lista_haar_3v_array, lista_haar_T_intors_array = calc_lista_haar_poze(path_poze)\n",
    "print(lista_haar_3v_array)\n",
    "print(lista_haar_T_intors_array)\n",
    "\n",
    "print(np.shape(lista_haar_3v_array))\n",
    "print(np.shape(lista_haar_T_intors_array))\n",
    "\n",
    "# creeaza a doua axa pentru figura\n",
    "nr_imagini = 16 \n",
    "y = np.zeros(nr_imagini)\n",
    "\n",
    "#ploteaza intr-o figura valorile haar pt fete cu verde si non-fete cu rosu\n",
    "plt.figure() \n",
    "plt.scatter(lista_haar_3v_array[0:7], y[0:7], color='r')\n",
    "plt.scatter(lista_haar_3v_array[7:16], y[7:16], color='g')\n",
    "\n",
    "plt.figure() \n",
    "plt.scatter(lista_haar_T_intors_array[0:7], y[0:7], color='r')\n",
    "plt.scatter(lista_haar_T_intors_array[7:16], y[7:16], color='g')"
   ]
  },
  {
   "cell_type": "code",
   "execution_count": 149,
   "id": "b9a8ca53",
   "metadata": {},
   "outputs": [],
   "source": [
    "# Ex 3"
   ]
  },
  {
   "cell_type": "code",
   "execution_count": 150,
   "id": "97098dfc",
   "metadata": {},
   "outputs": [],
   "source": [
    "#functie pentru caluclul performnatei tp,tn,fp,fn\n",
    "def performanta(predictie_haar, ref):\n",
    "    \n",
    "    nr_imagini_nonfete = 9\n",
    "    nr_imagini_fete = 7 \n",
    "    #Parameters : etichete_referinta, trasaturi_haar, nr_poze\n",
    "    tp= np.logical_and(predictie_haar==1, ref==1).sum()/nr_imagini_fete\n",
    "    fn= np.logical_and(predictie_haar==0, ref==1).sum()/nr_imagini_fete\n",
    "    tn= np.logical_and(predictie_haar==0, ref==0).sum()/nr_imagini_nonfete\n",
    "    fp= np.logical_and(predictie_haar==1, ref==0).sum()/nr_imagini_nonfete\n",
    "\n",
    "    return tp, fn, tn, fp"
   ]
  },
  {
   "cell_type": "code",
   "execution_count": 151,
   "id": "8dc3bd56",
   "metadata": {},
   "outputs": [
    {
     "name": "stdout",
     "output_type": "stream",
     "text": [
      "[[ 1  6 12 13]\n",
      " [ 3 12 21 24]\n",
      " [ 6 16 33 39]\n",
      " [10 29 50 65]]\n",
      "5 7 11 13\n",
      "10 9 7 12 0\n"
     ]
    }
   ],
   "source": [
    "# Verificare\n",
    "a= [[1,5,6,1],[2,4,3,2],[3,1,8,3],[4,9,4,9]] \n",
    "\n",
    "img_integrala = img_integrala(a,1)\n",
    "print(img_integrala)\n",
    "\n",
    "zn1,za1,za2,H_3V=haar_3V(0,2,3,2,img_integrala)\n",
    "print(zn1,za1,za2,H_3V)\n",
    "\n",
    "zn1,zn2,za1,za2,H_T_intors=haar_T_intors(2,1,2,3,img_integrala)\n",
    "print(zn1,zn2,za1,za2,H_T_intors)"
   ]
  },
  {
   "cell_type": "code",
   "execution_count": 152,
   "id": "2bc19db6",
   "metadata": {},
   "outputs": [
    {
     "name": "stdout",
     "output_type": "stream",
     "text": [
      "13\n",
      "58\n",
      "Prag bun:  19\n",
      "TP max:  0.5714285714285714\n",
      "TN max:  0.1111111111111111\n"
     ]
    }
   ],
   "source": [
    "# Ex 3\n",
    "ref = y\n",
    "ref[0:7] = 1\n",
    "\n",
    "prag_bun = np.uint32(np.min(lista_haar_3v_array))\n",
    "tp_max = 0\n",
    "tn_max = 0\n",
    "\n",
    "print(np.uint32(np.min(lista_haar_3v_array)))\n",
    "print(np.uint32(np.max(lista_haar_3v_array)))\n",
    "\n",
    "# alegem trasatura haar 3V (cea mai buna)\n",
    "for prag in range(np.uint32(np.min(lista_haar_3v_array)), np.uint32(np.max(lista_haar_3v_array))):\n",
    "    pred_haar = (lista_haar_3v_array > prag)\n",
    "    tp,fn,tn,fp = performanta(pred_haar, ref)\n",
    "\n",
    "    if tp > tp_max and tn > tn_max:\n",
    "        tp_max = tp\n",
    "        tn_max = tn\n",
    "        prag_bun = prag\n",
    "\n",
    "print(\"Prag bun: \", prag_bun)\n",
    "print(\"TP max: \", tp_max)\n",
    "print(\"TN max: \", tn_max)"
   ]
  },
  {
   "cell_type": "code",
   "execution_count": 153,
   "id": "00c9f4fd",
   "metadata": {},
   "outputs": [
    {
     "name": "stdout",
     "output_type": "stream",
     "text": [
      "-15\n",
      "-15\n",
      "14\n",
      "Prag bun:  -7\n",
      "TP max:  0.8571428571428571\n",
      "TN max:  0.2222222222222222\n"
     ]
    }
   ],
   "source": [
    "# pentru haar T intors  \n",
    "#  \n",
    "prag_bun = int(np.floor(np.min(lista_haar_T_intors_array)))\n",
    "print(prag_bun)\n",
    "tp_max = 0.1\n",
    "tn_max = 0.1\n",
    "\n",
    "print(int(np.floor(np.min(lista_haar_T_intors_array))))\n",
    "print(int(np.ceil(np.max(lista_haar_T_intors_array))))\n",
    "\n",
    "# alegem trasatura haar 3V\n",
    "for prag in range(int(np.floor(np.min(lista_haar_T_intors_array))), int(np.ceil(np.max(lista_haar_T_intors_array)))):\n",
    "    pred_haar = (lista_haar_T_intors_array > prag)\n",
    "    tp,fn,tn,fp = performanta(pred_haar, ref)\n",
    "\n",
    "    if tp > tp_max and tn > tn_max:\n",
    "        tp_max = tp\n",
    "        tn_max = tn\n",
    "        prag_bun = prag\n",
    "\n",
    "print(\"Prag bun: \", prag_bun)\n",
    "print(\"TP max: \", tp_max)\n",
    "print(\"TN max: \", tn_max)"
   ]
  },
  {
   "cell_type": "markdown",
   "id": "97feaa2f",
   "metadata": {},
   "source": [
    "Ex 4\n",
    "\n",
    "In  ce  conditii  este  descriptorul  LBP  invariant  la  iluminare.  De  ce  nu  este  invariant  in  orice situatie? "
   ]
  },
  {
   "cell_type": "markdown",
   "id": "30b9423e",
   "metadata": {},
   "source": [
    "Descriptorul LBP este invariant la iluminare in cazul in care iluminarea este constanta pe intrega portiune de interes, in acest caz toti pixelii vor creste cu aceeasi intensitate, comparatiile ramanand identice.\n",
    "Nu este invariant in orice situatie, deoarece daca ne aflam la un contur, iar iluminarea se petrece doar pe o jumatate din zona de interes atunci pixelii se vor modifica doar pe acea portiune, avand alt descriptor LBP decat cel calculat anterior."
   ]
  }
 ],
 "metadata": {
  "kernelspec": {
   "display_name": "Python 3",
   "language": "python",
   "name": "python3"
  },
  "language_info": {
   "codemirror_mode": {
    "name": "ipython",
    "version": 3
   },
   "file_extension": ".py",
   "mimetype": "text/x-python",
   "name": "python",
   "nbconvert_exporter": "python",
   "pygments_lexer": "ipython3",
   "version": "3.11.9"
  }
 },
 "nbformat": 4,
 "nbformat_minor": 5
}
