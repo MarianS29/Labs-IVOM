{
 "cells": [
  {
   "cell_type": "code",
   "execution_count": 3,
   "metadata": {},
   "outputs": [],
   "source": [
    "# Trasaturi Haar\n",
    "# H1,2 - orizonatala 0 1 (Za Zn)\n",
    "# H2,2 - verticala 1\n",
    "#                  0\n",
    "# H3 - 1 0 1 \n",
    "# H4 - 0 1\n",
    "#      1 0"
   ]
  },
  {
   "cell_type": "code",
   "execution_count": 4,
   "metadata": {},
   "outputs": [],
   "source": [
    "import numpy as np\n",
    "from skimage import io,color\n",
    "from skimage.transform.integral import integral_image\n",
    "import os\n",
    "import matplotlib.pyplot as plt"
   ]
  },
  {
   "cell_type": "code",
   "execution_count": 5,
   "metadata": {},
   "outputs": [],
   "source": [
    "def suma_dreptunghi(x, y, h, w, integral_img):\n",
    "    A = integral_img[x-1, y-1] if x > 0 and y > 0 else 0\n",
    "    B = integral_img[x-1, y+w-1] if x > 0 else 0\n",
    "    C = integral_img[x+h-1, y-1] if y > 0 else 0\n",
    "    D = integral_img[x+h-1, y+w-1]\n",
    "    return D - B - C + A"
   ]
  },
  {
   "cell_type": "code",
   "execution_count": 6,
   "metadata": {},
   "outputs": [],
   "source": [
    "def haar_unu(l,c,h,w,img_integrala):\n",
    "    \n",
    "    # [zn]\n",
    "    # [za]\n",
    "    \n",
    "    #PARAMETERS: pozitia pixelului din coltul st-sus (l,c), dim dreptunghiului(h,w), img_integ\n",
    "    # RETURN (zonele negre,zonele albe, catacteristica propriu-zisa)\n",
    "    zona_neagra = suma_dreptunghi(l,c+w//2,h,w//2,img_integrala)\n",
    "    zona_alba   = suma_dreptunghi(l,c,h,w//2,img_integrala)\n",
    "    H1          = zona_alba - zona_neagra\n",
    "    \n",
    "    return zona_alba, zona_neagra, H1"
   ]
  },
  {
   "cell_type": "code",
   "execution_count": 7,
   "metadata": {},
   "outputs": [],
   "source": [
    "def haar_doi(l,c,h,w,img_integrala):\n",
    "    \n",
    "    # [za] [zn]\n",
    "    \n",
    "    #PARAMETERS: pozitia pixelului din coltul st-sus (l,c), dim dreptunghiului(h,w), img_integ\n",
    "    # RETURN (zonele negre,zonele albe, catacteristica propriu-zisa)\n",
    "    zona_neagra = suma_dreptunghi(l,c,h//2,w,img_integrala)\n",
    "    zona_alba   = suma_dreptunghi(l+h//2,c,h//2,w,img_integrala)\n",
    "    H2          = zona_alba - zona_neagra\n",
    "    \n",
    "    return zona_alba, zona_neagra, H2"
   ]
  },
  {
   "cell_type": "code",
   "execution_count": 8,
   "metadata": {},
   "outputs": [],
   "source": [
    "def haar_trei(l,c,h,w,img_integrala):\n",
    "    \n",
    "    # [zn] [za] [zn]\n",
    "    \n",
    "    #PARAMETERS: pozitia pixelului din coltul st-sus (l,c), dim dreptunghiului(h,w), img_integ\n",
    "    # RETURN (zonele negre,zonele albe, catacteristica propriu-zisa)\n",
    "    zona_neagra_1  = suma_dreptunghi(l,c,h,w//3,img_integrala)\n",
    "    zona_neagra_2  = suma_dreptunghi(l,c+2*w//3,h,w//3,img_integrala)\n",
    "    zona_alba      = suma_dreptunghi(l,c+w//3,h,w//3,img_integrala)\n",
    "    H3             = zona_alba - zona_neagra_1 - zona_neagra_2\n",
    "    \n",
    "    return zona_neagra_1, zona_neagra_2, zona_alba, H3"
   ]
  },
  {
   "cell_type": "code",
   "execution_count": 9,
   "metadata": {},
   "outputs": [],
   "source": [
    "def haar_patru(l,c,h,w,img_integrala):\n",
    "    \n",
    "    # [za] [zn] \n",
    "    # [zn] [za] \n",
    "    \n",
    "    #PARAMETERS: pozitia pixelului din coltul st-sus (l,c), dim dreptunghiului(h,w), img_integ\n",
    "    # RETURN (zonele negre,zonele albe, catacteristica propriu-zisa)\n",
    "    \n",
    "    zona_neagra_1 = suma_dreptunghi(l,c+w//2,h//2,w//2,img_integrala)\n",
    "    zona_neagra_2 = suma_dreptunghi(l+h//2,c,h//2,w//2,img_integrala)\n",
    "    zona_alba_1   = suma_dreptunghi(l,c,h//2,w//2,img_integrala)\n",
    "    zona_alba_2   = suma_dreptunghi(l+h//2,c+w//2,h//2,w//2,img_integrala)\n",
    "    H4            = zona_alba_1+ zona_alba_2 - zona_neagra_1 - zona_neagra_2\n",
    "  \n",
    "    return zona_neagra_1, zona_neagra_2, zona_alba_1, zona_alba_2, H4"
   ]
  },
  {
   "cell_type": "code",
   "execution_count": 10,
   "metadata": {},
   "outputs": [
    {
     "name": "stdout",
     "output_type": "stream",
     "text": [
      "[[3 2 1 1]\n",
      " [1 2 3 4]]\n",
      "[[ 3  5  6  7]\n",
      " [ 4  8 12 17]]\n",
      "4 4 0\n"
     ]
    }
   ],
   "source": [
    "# H1\n",
    "\n",
    "b=np.array([[3,2,1,1],[1,2,3,4]])\n",
    "\n",
    "img_integrala = integral_image(b)\n",
    "zn,za,haar1=haar_unu(0,0,2,2,img_integrala)\n",
    "\n",
    "print(b)\n",
    "print(img_integrala)\n",
    "print(zn,za,haar1)\n"
   ]
  },
  {
   "cell_type": "code",
   "execution_count": 11,
   "metadata": {},
   "outputs": [
    {
     "name": "stdout",
     "output_type": "stream",
     "text": [
      "[[1. 1. 1. 1.]\n",
      " [2. 2. 2. 2.]\n",
      " [3. 3. 3. 3.]\n",
      " [4. 4. 4. 4.]]\n",
      "[[ 1.  2.  3.  4.]\n",
      " [ 3.  6.  9. 12.]\n",
      " [ 6. 12. 18. 24.]\n",
      " [10. 20. 30. 40.]]\n",
      "28.0 12.0 16.0\n"
     ]
    }
   ],
   "source": [
    "# H2\n",
    "\n",
    "A = np.zeros((4,4))\n",
    "A[0,:] = 1\n",
    "A[1,:] = 2\n",
    "A[2,:] = 3\n",
    "A[3,:] = 4\n",
    "\n",
    "img_integrala = integral_image(A)\n",
    "zn,za,haar2=haar_doi(0,0,4,4,img_integrala)\n",
    "\n",
    "print(A)\n",
    "print(img_integrala)\n",
    "print(zn,za,haar2)\n"
   ]
  },
  {
   "cell_type": "code",
   "execution_count": 12,
   "metadata": {},
   "outputs": [
    {
     "name": "stdout",
     "output_type": "stream",
     "text": [
      "[[3 2 1 1]\n",
      " [1 2 3 4]]\n",
      "[[ 3  5  6  7]\n",
      " [ 4  8 12 17]]\n",
      "4 4 4 -4\n"
     ]
    }
   ],
   "source": [
    "img_integrala = integral_image(b)\n",
    "zn1, zn2, za, haar3 = haar_trei(0,0,2,3,img_integrala)\n",
    "\n",
    "print(b)\n",
    "print(img_integrala)\n",
    "print(zn1, zn2, za, haar3)"
   ]
  },
  {
   "cell_type": "code",
   "execution_count": 13,
   "metadata": {},
   "outputs": [
    {
     "name": "stdout",
     "output_type": "stream",
     "text": [
      "[[1. 1. 1. 1.]\n",
      " [2. 2. 2. 2.]\n",
      " [3. 3. 3. 3.]\n",
      " [4. 4. 4. 4.]]\n",
      "[[ 1.  2.  3.  4.]\n",
      " [ 3.  6.  9. 12.]\n",
      " [ 6. 12. 18. 24.]\n",
      " [10. 20. 30. 40.]]\n",
      "6.0 14.0 6.0 14.0 0.0\n"
     ]
    }
   ],
   "source": [
    "img_integrala = integral_image(A)\n",
    "zn1, zn2, za1, za2, haar4 = haar_patru(0,0,4,4,img_integrala)\n",
    "\n",
    "print(A)\n",
    "print(img_integrala)\n",
    "print(zn1,zn2,za1,za2,haar4)"
   ]
  },
  {
   "cell_type": "code",
   "execution_count": null,
   "metadata": {},
   "outputs": [],
   "source": [
    "###############################################################################\n",
    "######################### Lab 4 (continuare lab 3) ############################\n",
    "###############################################################################"
   ]
  },
  {
   "cell_type": "code",
   "execution_count": 31,
   "metadata": {},
   "outputs": [],
   "source": [
    "#functie pentru caluclul performnatei tp,tn,fp,fn\n",
    "def performanta(pred_haar, ref):\n",
    "    \n",
    "    #Parameters : etichete_referinta, trasaturi_haar, nr_poze\n",
    "    tp= np.logical_and(pred_haar==1, ref==1).sum()/10\n",
    "    fn= np.logical_and(pred_haar==0, ref==1).sum()/10\n",
    "    tn= np.logical_and(pred_haar==0, ref==0).sum()/10\n",
    "    fp= np.logical_and(pred_haar==1, ref==0).sum()/10\n",
    "\n",
    "    print(tp,fn,tn,fp)"
   ]
  },
  {
   "cell_type": "code",
   "execution_count": 32,
   "metadata": {},
   "outputs": [
    {
     "name": "stdout",
     "output_type": "stream",
     "text": [
      "['face0.jpg', 'face1.JPG', 'face2.JPG', 'face3.JPG', 'face4.JPG', 'face5.jpg', 'face6.jpg', 'face7.jpg', 'face8.jpg', 'face9.jpg', 'false0.jpg', 'false1.jpg', 'false2.jpg', 'false3.jpg', 'false4.jpg', 'false5.jpg', 'false6.jpg', 'false7.jpg', 'false8.jpg', 'false9.jpg']\n",
      "[-17.09019607843138, -18.537662745098032, -11.881239607843128, -8.956980784313718, -13.12450980392157, -6.927170588235295, -11.048405490196075, -9.097167843137257, -18.51871019607843, -17.317647058823546, -17.45461333333333, -15.359181176470596, -28.258661176470582, -30.88649647058824, -43.82729647058822, -17.97144039215687, -33.14411333333334, -24.33165058823529, -43.328727843137244, -27.657764313725487]\n",
      "[-17.09019608 -18.53766275 -11.88123961  -8.95698078 -13.1245098\n",
      "  -6.92717059 -11.04840549  -9.09716784 -18.5187102  -17.31764706\n",
      " -17.45461333 -15.35918118 -28.25866118 -30.88649647 -43.82729647\n",
      " -17.97144039 -33.14411333 -24.33165059 -43.32872784 -27.65776431]\n",
      "1.0 0.0 0.7 0.3\n"
     ]
    },
    {
     "data": {
      "image/png": "[encoded data removed]",
      "text/plain": [
       "<Figure size 640x480 with 1 Axes>"
      ]
     },
     "metadata": {},
     "output_type": "display_data"
    }
   ],
   "source": [
    "poze = os.listdir(\"Mici\")\n",
    "print(poze)\n",
    "\n",
    "lista_haar = []\n",
    "\n",
    "for poza in poze:\n",
    "    #citeste imagine si transforma in gray\n",
    "    im=io.imread(\"Mici/\"+poza)\n",
    "    im = color.rgb2gray(im)\n",
    "    #calculeaza imaginea integrala pt fiecare poza\n",
    "    ii=integral_image(im)\n",
    "\n",
    "    #calculeaza 2 variuante de trasaturi haar \n",
    "    zn1,zn2,za1,haar3=haar_trei(0,0,6,24,ii)\n",
    "    zn1,za1,haar2=haar_doi(0,6,12,12,ii)\n",
    "    \n",
    "    #adauga in lista valoarea trasaturii pt fiec poza\n",
    "    lista_haar.append(haar3)\n",
    "\n",
    "print(lista_haar)\n",
    "\n",
    "#transforma lista de valori Haar in array       \n",
    "lista_haar_2=np.asarray(lista_haar)\n",
    "print(lista_haar_2)\n",
    "\n",
    "# creeaza a doua axa pentru figura\n",
    "y = np.zeros(20)\n",
    "# y[11:20] = 1\n",
    "\n",
    "#ploteaza intr-o figura valorile haar pt fete cu verde si non-fete cu rosu\n",
    "plt.figure() \n",
    "plt.scatter(lista_haar_2[0:10], y[0:10], color='g')\n",
    "plt.scatter(lista_haar_2[10:20], y[10:20], color='r')\n",
    "\n",
    "#alegeti pragul aastfel incat Tp max FP min\n",
    "#folositi sintaxa m[conditie]=\n",
    "T= -20\n",
    "ref = y\n",
    "ref[0:10] = 1\n",
    "pred_haar = (lista_haar_2 > T)\n",
    "\n",
    "#apelati fct de performanta \n",
    "performanta(pred_haar, ref)\n"
   ]
  }
 ],
 "metadata": {
  "kernelspec": {
   "display_name": "Python 3",
   "language": "python",
   "name": "python3"
  },
  "language_info": {
   "codemirror_mode": {
    "name": "ipython",
    "version": 3
   },
   "file_extension": ".py",
   "mimetype": "text/x-python",
   "name": "python",
   "nbconvert_exporter": "python",
   "pygments_lexer": "ipython3",
   "version": "3.11.9"
  }
 },
 "nbformat": 4,
 "nbformat_minor": 2
}
