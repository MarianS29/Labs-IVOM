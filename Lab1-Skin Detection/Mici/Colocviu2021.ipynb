{
 "cells": [
  {
   "cell_type": "code",
   "execution_count": 1,
   "id": "8de4dd19",
   "metadata": {},
   "outputs": [],
   "source": [
    "#Import\n",
    "\n",
    "import numpy as np\n",
    "from skimage import io,color\n",
    "from skimage.transform.integral import integral_image\n",
    "import os\n",
    "import matplotlib.pyplot as plt"
   ]
  },
  {
   "cell_type": "code",
   "execution_count": 2,
   "id": "3ec99d21",
   "metadata": {},
   "outputs": [],
   "source": [
    "#################################\n",
    "########  Lab 3 - HAAR  #########\n",
    "##########  H_3V, H_L  ##########\n",
    "#################################\n",
    "def suma_dreptunghi(l,c,h,w,img_integral):\n",
    "    \n",
    "    # PARAMETRII : perechea (l,c) pentru pixelul curent,dimensiunea imaginii,imaginea integrala\n",
    "    # RETURN : Z=suma intensitatilor pixelilor din dreptunghiul ales\n",
    "    if l>0 and c>0:\n",
    "        A = img_integral[l-1, c-1]\n",
    "        B = img_integral[l-1, w+c-1]\n",
    "        C = img_integral[h+l-1, c-1]     \n",
    "    elif l==0 and c>0:\n",
    "        A=B=0\n",
    "        C = img_integral[h-1, c-1]  \n",
    "    elif l>0 and c==0:\n",
    "        A=C=0\n",
    "        B = img_integral[l-1, w-1] \n",
    "    else:\n",
    "        A=B=C=0\n",
    "\n",
    "    D = img_integral[h+l-1, w+c-1]\n",
    "    \n",
    "    Z = A+D-B-C\n",
    "    \n",
    "    return Z\n",
    "\n",
    "def img_integrala(img,h,w,flag):\n",
    "    \n",
    "    img_integral = np.zeros((h,w))\n",
    "    \n",
    "    # PARAMETRII : imaginea,dimensiunea acesteia si un flag(1 sau 2 tip intreg) care sa \n",
    "    # semnaleze ce varianta folositi(1 sau 2)-> ambele variante treb sa duca \n",
    "    # acelasi rezultat\n",
    "    # RETURN: imaginea integrala finala\n",
    "    \n",
    "    #VARIANTA 1(varianta clasica cu FOR)\n",
    "    #HINT-1 -> puteti sa folositi .sum() din numpy adaptand mereu o fereastra\n",
    "    # care pleaca din coltul dreapta-sus(0,0) si cuprinde pixelul crent\n",
    "    #HINT-2 -> puteti sa gasiti o regula astfel incat sa folositi valorile calculate\n",
    "    # anterior in imaginea integrala si imaginea curenta\n",
    "    if(flag ==1):\n",
    "        \n",
    "        for i in range(h):\n",
    "            for j in range(w):\n",
    "                    img_integral[i,j] = np.sum(img[0:i+1,0:j+1]) \n",
    "    \n",
    "\n",
    "    #VARIANTA 2(folosind functii din python)\n",
    "    # uitati-va ce face np.cumsum() si folositi-l corespunzator\n",
    "\n",
    "    if(flag == 2):\n",
    "        img_integral = np.cumsum(img, axis=0)\n",
    "        img_integral = np.cumsum(img_integral, axis=1)\n",
    "        \n",
    "    if(flag ==3):\n",
    "        for i in range(h):\n",
    "            for j in range(w):\n",
    "                if(i==j==0):\n",
    "                    img_integral[i,j] = img[i,j]\n",
    "                elif(i==0 and j!=0):\n",
    "                    img_integral[i,j] = img[i,j] + img_integral[i,j-1]\n",
    "                elif(i!=0 and j==0):\n",
    "                    img_integral[i,j] = img[i,j] + img_integral[i-1,j]    \n",
    "                elif(i!=0 and j!=0):\n",
    "                    img_integral[i,j] = img[i,j] + img_integral[i,j-1] + img_integral[i-1,j] - img_integral[i-1,j-1]\n",
    "    \n",
    "    return img_integral"
   ]
  },
  {
   "cell_type": "code",
   "execution_count": 7,
   "id": "d829bea0",
   "metadata": {},
   "outputs": [],
   "source": [
    "def H_3V(l,c,h,w,img_integ):\n",
    "     za1=suma_dreptunghi(l,c,h//3,w,img_integ)\n",
    "     zn1=suma_dreptunghi(l+h//3,c,h//3,w,img_integ)\n",
    "     za2=suma_dreptunghi(l+2*(h//3),c,h//3,w,img_integ)\n",
    "     haar=za1+za2-zn1\n",
    "     \n",
    "     return zn1,za1,za2,haar\n",
    "    \n",
    "\n",
    "def H_L(l,c,h,w,img_integ):\n",
    "     zn1=suma_dreptunghi(l,c,h,w//3,img_integ)\n",
    "     za2=suma_dreptunghi(l,c-w//3,h,w//3,img_integ)\n",
    "     za1=suma_dreptunghi(l,c+w//3,h,w//3,img_integ)\n",
    "     zn2=suma_dreptunghi(l+h,c+w//3,h,w//3,img_integ)\n",
    "     haar=za1+za2-zn1-zn2\n",
    "     \n",
    "     return zn1,zn2,za1,za2,haar"
   ]
  },
  {
   "cell_type": "code",
   "execution_count": 24,
   "id": "5043fc9c",
   "metadata": {},
   "outputs": [
    {
     "data": {
      "text/plain": [
       "<matplotlib.collections.PathCollection at 0x2839449bb00>"
      ]
     },
     "execution_count": 24,
     "metadata": {},
     "output_type": "execute_result"
    },
    {
     "data": {
      "image/png": "[encoded data removed]",
      "text/plain": [
       "<Figure size 432x288 with 1 Axes>"
      ]
     },
     "metadata": {
      "needs_background": "light"
     },
     "output_type": "display_data"
    },
    {
     "data": {
      "image/png": "[encoded data removed]",
      "text/plain": [
       "<Figure size 432x288 with 1 Axes>"
      ]
     },
     "metadata": {
      "needs_background": "light"
     },
     "output_type": "display_data"
    }
   ],
   "source": [
    "path = \"D:\\MASTER TAID\\sem 3\\IVOM\\lab\\Laboratoare\\COLOCVIU_IVOM_TAID_PRIMA_SERIE_DEC_2019\\Mici\"\n",
    "poze= os.listdir(path)\n",
    "\n",
    "lista_haar_3V=[]\n",
    "lista_haar_L=[]\n",
    "\n",
    "for poza in poze:\n",
    "    #citeste imagine si transforma in gray\n",
    "    im=io.imread(\"COLOCVIU_IVOM_TAID_PRIMA_SERIE_DEC_2019\\Mici/\"+ poza)\n",
    "    im = color.rgb2gray(im)\n",
    "    \n",
    "    #calculeaza imaginea integrala pt fiecare poza\n",
    "    ii=img_integrala(im,im.shape[0],im.shape[1],2)\n",
    "    \n",
    "    #calculeaza 2 variuante de trasaturi haar \n",
    "    zn1,za1,za2,haar3V=H_3V(0, 16, 24, 8,ii)\n",
    "    zn_1,zn_2,za_1,za_2,haarL=H_L(0, 8, 8, 24,ii)\n",
    "    \n",
    "    #adauga in lista valoarea trasaturii pt fiec poza\n",
    "    lista_haar_3V.append(haar3V)\n",
    "    lista_haar_L.append(haarL)\n",
    "    \n",
    "lista_haar_3V = np.asarray(lista_haar_3V)\n",
    "lista_haar_L = np.asarray(lista_haar_L)\n",
    "\n",
    "# creeaza a doua axa pentru figura\n",
    "y1 = np.zeros(6)\n",
    "y2 = np.zeros(10)\n",
    "\n",
    "#ploteaza intr-o figura valorile haar pt fete cu verde si non-fete cu rosu\n",
    "plt.figure(1) \n",
    "plt.scatter(lista_haar_3V[:6],y1, color='g')\n",
    "plt.scatter(lista_haar_3V[6:],y2, color='r')\n",
    "\n",
    "plt.figure(2) \n",
    "plt.scatter(lista_haar_L[:6],y1, color='g')\n",
    "plt.scatter(lista_haar_L[6:],y2, color='r')"
   ]
  },
  {
   "cell_type": "code",
   "execution_count": 15,
   "id": "7b033143",
   "metadata": {},
   "outputs": [
    {
     "name": "stdout",
     "output_type": "stream",
     "text": [
      "[0. 1. 1. 0. 1. 1. 0. 0. 0. 0. 0. 0. 0. 0. 0. 0.]\n",
      "[1 1 1 1 1 1 0 0 0 0 0 0 0 0 0 0]\n",
      "tp= 0.6666666666666666  fn= 0.33333333333333337  tn= 1.0  fp= 0.0\n"
     ]
    }
   ],
   "source": [
    "T_3V= 18\n",
    "lista_haar_3V[lista_haar_3V <= T_3V] = 1\n",
    "lista_haar_3V[lista_haar_3V != 1] = 0\n",
    "print(lista_haar_3V)\n",
    "\n",
    "#functie pentru caluclul performnatei tp,tn,fp,fn\n",
    "def performanta(etichete_referinta, trasaturi_haar, nr_poze):\n",
    "    \n",
    "    #Parameters : etichete_referinta, trasaturi_haar, nr_poze\n",
    "    tp=np.logical_and(etichete_referinta==1, trasaturi_haar==1).sum()/6\n",
    "    fp=np.logical_and(etichete_referinta==0, trasaturi_haar==1).sum()/10\n",
    "    fn=1 - tp\n",
    "    tn=1 - fp\n",
    "    \n",
    "    print(\"tp=\",tp,\" fn=\",fn,\" tn=\",tn,\" fp=\",fp)\n",
    "\n",
    "referinta = np.array([1,1,1,1,1,1,0,0,0,0,0,0,0,0,0,0])\n",
    "print(referinta)\n",
    "#apelati fct de performanta \n",
    "performanta(referinta, lista_haar_3V, 16)"
   ]
  },
  {
   "cell_type": "code",
   "execution_count": 25,
   "id": "d4a3462e",
   "metadata": {},
   "outputs": [
    {
     "name": "stdout",
     "output_type": "stream",
     "text": [
      "[0. 1. 1. 0. 1. 0. 0. 0. 0. 0. 1. 0. 1. 0. 0. 0.]\n",
      "tp= 0.5  fn= 0.5  tn= 0.8  fp= 0.2\n"
     ]
    }
   ],
   "source": [
    "T_L= 1\n",
    "lista_haar_L[lista_haar_L >= T_L] = 1\n",
    "lista_haar_L[lista_haar_L != 1] = 0\n",
    "print(lista_haar_L)\n",
    "performanta(referinta, lista_haar_L, 16)"
   ]
  }
 ],
 "metadata": {
  "kernelspec": {
   "display_name": "Python 3",
   "language": "python",
   "name": "python3"
  },
  "language_info": {
   "codemirror_mode": {
    "name": "ipython",
    "version": 3
   },
   "file_extension": ".py",
   "mimetype": "text/x-python",
   "name": "python",
   "nbconvert_exporter": "python",
   "pygments_lexer": "ipython3",
   "version": "3.6.13"
  }
 },
 "nbformat": 4,
 "nbformat_minor": 5
}
