{
 "cells": [
  {
   "cell_type": "code",
   "execution_count": 41,
   "id": "7eb9827b",
   "metadata": {},
   "outputs": [],
   "source": [
    "#Import\n",
    "\n",
    "import numpy as np\n",
    "from skimage import io,color\n",
    "from skimage.transform.integral import integral_image\n",
    "import matplotlib.pyplot as plt\n",
    "import math\n",
    "import pdb\n",
    "import os\n",
    "import scipy.signal as sig"
   ]
  },
  {
   "cell_type": "code",
   "execution_count": 45,
   "id": "4cb0ccec",
   "metadata": {},
   "outputs": [],
   "source": [
    "#################################\n",
    "########  Lab 3 - HAAR  #########\n",
    "##########  H_3V, H_T  ##########\n",
    "#################################\n",
    "\n",
    "def img_integrala(img,h,w,flag):\n",
    "    \n",
    "    img_integral = np.zeros((h,w))\n",
    "    \n",
    "    # PARAMETRII : imaginea,dimensiunea acesteia si un flag(1 sau 2 tip intreg) care sa \n",
    "    # semnaleze ce varianta folositi(1 sau 2)-> ambele variante treb sa duca \n",
    "    # acelasi rezultat\n",
    "    # RETURN: imaginea integrala finala\n",
    "    \n",
    "    #VARIANTA 1(varianta clasica cu FOR)\n",
    "    #HINT-1 -> puteti sa folositi .sum() din numpy adaptand mereu o fereastra\n",
    "    # care pleaca din coltul dreapta-sus(0,0) si cuprinde pixelul crent\n",
    "    #HINT-2 -> puteti sa gasiti o regula astfel incat sa folositi valorile calculate\n",
    "    # anterior in imaginea integrala si imaginea curenta\n",
    "    if(flag ==1):\n",
    "        \n",
    "        for i in range(h):\n",
    "            for j in range(w):\n",
    "                    img_integral[i,j] = np.sum(img[0:i+1,0:j+1]) \n",
    "    \n",
    "\n",
    "    #VARIANTA 2(folosind functii din python)\n",
    "    # uitati-va ce face np.cumsum() si folositi-l corespunzator\n",
    "\n",
    "    if(flag == 2):\n",
    "        img_integral = np.cumsum(img, axis=0)\n",
    "        img_integral = np.cumsum(img_integral, axis=1)\n",
    "        \n",
    "    if(flag ==3):\n",
    "        for i in range(h):\n",
    "            for j in range(w):\n",
    "                if(i==j==0):\n",
    "                    img_integral[i,j] = img[i,j]\n",
    "                elif(i==0 and j!=0):\n",
    "                    img_integral[i,j] = img[i,j] + img_integral[i,j-1]\n",
    "                elif(i!=0 and j==0):\n",
    "                    img_integral[i,j] = img[i,j] + img_integral[i-1,j]    \n",
    "                elif(i!=0 and j!=0):\n",
    "                    img_integral[i,j] = img[i,j] + img_integral[i,j-1] + img_integral[i-1,j] - img_integral[i-1,j-1]\n",
    "    \n",
    "    return img_integral\n",
    "\n",
    "def suma_dreptunghi(l,c,h,w,img_integral):\n",
    "    \n",
    "    # PARAMETRII : perechea (l,c) pentru pixelul curent,dimensiunea imaginii,imaginea integrala\n",
    "    # RETURN : Z=suma intensitatilor pixelilor din dreptunghiul ales\n",
    "    if l>0 and c>0:\n",
    "        A = img_integral[l-1, c-1]\n",
    "        B = img_integral[l-1, w+c-1]\n",
    "        C = img_integral[h+l-1, c-1]     \n",
    "    elif l==0 and c>0:\n",
    "        A=B=0\n",
    "        C = img_integral[h-1, c-1]  \n",
    "    elif l>0 and c==0:\n",
    "        A=C=0\n",
    "        B = img_integral[l-1, w-1] \n",
    "    else:\n",
    "        A=B=C=0\n",
    "\n",
    "    D = img_integral[h+l-1, w+c-1]\n",
    "    \n",
    "    Z = A+D-B-C\n",
    "    \n",
    "    return Z\n",
    "\n",
    "def haar_3V(l,c,h,w,ii):\n",
    "    \n",
    "    #PARAMETERS: pozitia pixelului din coltul st-sus (l,c), dim dreptunghiului(h,w), img_integ\n",
    "    # RETURN (zonele negre,zonele albe, catacteristica propriu-zisa)\n",
    "    zona_neagra= suma_dreptunghi(l+h//3, c, h//3, w, ii)\n",
    "    zona_alba_1= suma_dreptunghi(l, c, h//3, w, ii)\n",
    "    zona_alba_2= suma_dreptunghi(l+2*h//3, c, h//3, w, ii)\n",
    "    H_3V= zona_alba_1 + zona_alba_2 - zona_neagra\n",
    "    \n",
    "    return(zona_neagra,zona_alba_1,zona_alba_2,H_3V)\n",
    "\n",
    "def haar_T(l,c,h,w,ii):\n",
    "    \n",
    "    #PARAMETERS: pozitia pixelului din coltul st-sus (l,c), dim dreptunghiului(h,w), img_integ\n",
    "    # RETURN (zonele negre,zonele albe, catacteristica propriu-zisa)\n",
    "    zona_alba_1= suma_dreptunghi(l, c - w//3, h, w//3, ii)\n",
    "    zona_neagra_1= suma_dreptunghi(l, c, h, w//3, ii)\n",
    "    zona_neagra_2= suma_dreptunghi(l - h, c, h, w//3, ii)\n",
    "    zona_alba_2= suma_dreptunghi(l, c + w//3, h, w//3, ii)\n",
    "    H_T= (zona_alba_1 + zona_alba_2 ) - (zona_neagra_1 + zona_neagra_2)\n",
    "    \n",
    "    return(zona_neagra_1,zona_neagra_2,zona_alba_1,zona_alba_2,H_T)"
   ]
  },
  {
   "cell_type": "code",
   "execution_count": 43,
   "id": "278cbf08",
   "metadata": {},
   "outputs": [
    {
     "name": "stdout",
     "output_type": "stream",
     "text": [
      "5 7 11 13\n",
      "10 9 7 12 0\n"
     ]
    }
   ],
   "source": [
    "a= np.array([[1,5,6,1],[2,4,3,2],[3,1,8,3],[4,9,4,9]])\n",
    "h_a,w_a=a.shape\n",
    "img_integ = img_integrala(a,h_a,w_a,2)\n",
    "\n",
    "za1,za2,zn1,haar_3V = haar_3V(0,2,3,2,img_integ)\n",
    "print(za1,za2,zn1,haar_3V) \n",
    "zn1,zn2,za1,za2,haar_T = haar_T(2,1,2,3,img_integ)     \n",
    "print(zn1,zn2,za1,za2,haar_T)"
   ]
  },
  {
   "cell_type": "code",
   "execution_count": 55,
   "id": "c26f9944",
   "metadata": {},
   "outputs": [
    {
     "data": {
      "text/plain": [
       "<matplotlib.collections.PathCollection at 0x2987d540fd0>"
      ]
     },
     "execution_count": 55,
     "metadata": {},
     "output_type": "execute_result"
    },
    {
     "data": {
      "image/png": "[encoded data removed]",
      "text/plain": [
       "<Figure size 432x288 with 1 Axes>"
      ]
     },
     "metadata": {
      "needs_background": "light"
     },
     "output_type": "display_data"
    },
    {
     "data": {
      "image/png": "[encoded data removed]",
      "text/plain": [
       "<Figure size 432x288 with 1 Axes>"
      ]
     },
     "metadata": {
      "needs_background": "light"
     },
     "output_type": "display_data"
    }
   ],
   "source": [
    "path = \"D:\\MASTER TAID\\sem 3\\IVOM\\lab\\Laboratoare\\COLOCVIU_IVOM_TAID_PRIMA_SERIE_DEC_2019\\Mici\"\n",
    "poze= os.listdir(path)\n",
    "\n",
    "lista_haar_3V=[]\n",
    "lista_haar_T=[]\n",
    "\n",
    "for poza in poze:\n",
    "    #citeste imagine si transforma in gray\n",
    "    im=io.imread(\"COLOCVIU_IVOM_TAID_PRIMA_SERIE_DEC_2019\\Mici/\"+ poza)\n",
    "    im = color.rgb2gray(im)\n",
    "    \n",
    "    #calculeaza imaginea integrala pt fiecare poza\n",
    "    ii=img_integrala(im,im.shape[0],im.shape[1],2)\n",
    "    \n",
    "    #calculeaza 2 variuante de trasaturi haar \n",
    "    zn1,za1,za2,haar3V=haar_3V(0,8,24,8,ii)\n",
    "    zn_1,zn_2,za_1,za_2,haarT=haar_T(16,8,8,24,ii)\n",
    "    \n",
    "    #adauga in lista valoarea trasaturii pt fiec poza\n",
    "    lista_haar_3V.append(haar3V)\n",
    "    lista_haar_T.append(haarT)\n",
    "    \n",
    "lista_haar_3V = np.asarray(lista_haar_3V)\n",
    "lista_haar_T = np.asarray(lista_haar_T)\n",
    "\n",
    "# creeaza a doua axa pentru figura\n",
    "y1 = np.zeros(6)\n",
    "y2 = np.zeros(10)\n",
    "\n",
    "#ploteaza intr-o figura valorile haar pt fete cu verde si non-fete cu rosu\n",
    "plt.figure(1) \n",
    "plt.scatter(lista_haar_3V[:6],y1, color='g')\n",
    "plt.scatter(lista_haar_3V[6:],y2, color='r')\n",
    "\n",
    "plt.figure(2) \n",
    "plt.scatter(lista_haar_T[:6],y1, color='g')\n",
    "plt.scatter(lista_haar_T[6:],y2, color='r')\n",
    "\n"
   ]
  },
  {
   "cell_type": "code",
   "execution_count": 56,
   "id": "bf86af0b",
   "metadata": {},
   "outputs": [
    {
     "name": "stdout",
     "output_type": "stream",
     "text": [
      "[0. 1. 1. 0. 1. 1. 1. 1. 0. 0. 0. 0. 0. 0. 0. 0.]\n",
      "[1 1 1 1 1 1 0 0 0 0 0 0 0 0 0 0]\n",
      "tp= 0.6666666666666666  fn= 0.33333333333333337  tn= 0.8  fp= 0.2\n",
      "[1. 0. 1. 1. 1. 1. 0. 0. 0. 1. 1. 0. 1. 1. 0. 1.]\n",
      "tp= 0.8333333333333334  fn= 0.16666666666666663  tn= 0.5  fp= 0.5\n"
     ]
    }
   ],
   "source": [
    "T_3V= 26\n",
    "lista_haar_3V[lista_haar_3V <= T_3V] = 1\n",
    "lista_haar_3V[lista_haar_3V != 1] = 0\n",
    "print(lista_haar_3V)\n",
    "\n",
    "#functie pentru caluclul performnatei tp,tn,fp,fn\n",
    "def performanta(etichete_referinta, trasaturi_haar, nr_poze):\n",
    "    \n",
    "    #Parameters : etichete_referinta, trasaturi_haar, nr_poze\n",
    "    tp=np.logical_and(etichete_referinta==1, trasaturi_haar==1).sum()/6\n",
    "    fp=np.logical_and(etichete_referinta==0, trasaturi_haar==1).sum()/10\n",
    "    fn=1 - tp\n",
    "    tn=1 - fp\n",
    "    \n",
    "    print(\"tp=\",tp,\" fn=\",fn,\" tn=\",tn,\" fp=\",fp)\n",
    "\n",
    "referinta = np.array([1,1,1,1,1,1,0,0,0,0,0,0,0,0,0,0])\n",
    "print(referinta)\n",
    "#apelati fct de performanta \n",
    "performanta(referinta, lista_haar_3V, 16)\n",
    "\n",
    "T_T= -1\n",
    "lista_haar_T[lista_haar_T <= T_T] = 1\n",
    "lista_haar_T[lista_haar_T != 1] = 0\n",
    "print(lista_haar_T)\n",
    "performanta(referinta, lista_haar_T, 16)"
   ]
  }
 ],
 "metadata": {
  "kernelspec": {
   "display_name": "Python 3",
   "language": "python",
   "name": "python3"
  },
  "language_info": {
   "codemirror_mode": {
    "name": "ipython",
    "version": 3
   },
   "file_extension": ".py",
   "mimetype": "text/x-python",
   "name": "python",
   "nbconvert_exporter": "python",
   "pygments_lexer": "ipython3",
   "version": "3.6.13"
  }
 },
 "nbformat": 4,
 "nbformat_minor": 5
}
